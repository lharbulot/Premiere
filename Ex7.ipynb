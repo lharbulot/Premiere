{
 "cells": [
  {
   "cell_type": "markdown",
   "metadata": {},
   "source": [
    "## <u>Exercice 7 :</u>"
   ]
  },
  {
   "cell_type": "code",
   "execution_count": null,
   "metadata": {},
   "outputs": [],
   "source": [
    "from random import *\n",
    "\n",
    "def G():\n",
    "    r=random()\n",
    "    if r<0.4:\n",
    "        return 0\n",
    "    elif r<0.7:\n",
    "        return 1\n",
    "    elif r<0.9:\n",
    "        return 10\n",
    "    else:\n",
    "        return 50\n",
    "    \n",
    "def echantillon(n):\n",
    "    L=[]\n",
    "    for i in range(...):\n",
    "        g=......\n",
    "        L.append(...)\n",
    "    return ............\n",
    "\n",
    "from pylab import *\n",
    "\n",
    "def representation(N,n):\n",
    "    for i in range(N):\n",
    "        plot(i,echantillon(n),'+',color='red')\n",
    "    axis([0,N,0,50])\n",
    "    show()"
   ]
  },
  {
   "cell_type": "markdown",
   "metadata": {},
   "source": [
    "Compléter les fonctions algorithmiques ci-dessus puis cliquer sur \"Exécuter\" dans le menu en haut.\n",
    "\n",
    "Saisir l'instruction à exécuter dans la console ci-dessous puis appuyer de nouveau sur \"Exécuter\"."
   ]
  },
  {
   "cell_type": "code",
   "execution_count": null,
   "metadata": {},
   "outputs": [],
   "source": []
  }
 ],
 "metadata": {
  "kernelspec": {
   "display_name": "Python 3",
   "language": "python",
   "name": "python3"
  },
  "language_info": {
   "codemirror_mode": {
    "name": "ipython",
    "version": 3
   },
   "file_extension": ".py",
   "mimetype": "text/x-python",
   "name": "python",
   "nbconvert_exporter": "python",
   "pygments_lexer": "ipython3",
   "version": "3.7.6"
  }
 },
 "nbformat": 4,
 "nbformat_minor": 4
}
