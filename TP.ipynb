{
 "cells": [
  {
   "cell_type": "markdown",
   "metadata": {},
   "source": [
    "# <div align=center><u>TP :</u> Marche aléatoire d'un robot</div>"
   ]
  },
  {
   "cell_type": "markdown",
   "metadata": {},
   "source": [
    "## 1. Fonction de simulation de la marche aléatoire du robot"
   ]
  },
  {
   "cell_type": "code",
   "execution_count": null,
   "metadata": {},
   "outputs": [],
   "source": [
    "from random import *\n",
    "from turtle import *\n",
    "\n",
    "colors  = [\"red\",\"green\",\"blue\",\"orange\",\"purple\",\"pink\",\"yellow\"]\n",
    "\n",
    "reset()\n",
    "up()\n",
    "pencolor(\"grey\")\n",
    "speed(0)\n",
    "goto(-200,-200)\n",
    "for i in range(9):\n",
    "    down()\n",
    "    forward(400)\n",
    "    up()\n",
    "    goto(-200,ycor()+50)\n",
    "goto(-200,200)\n",
    "right(90)\n",
    "for i in range(9):\n",
    "    down()\n",
    "    forward(400)\n",
    "    up()\n",
    "    goto(xcor()+50,200)\n",
    "    \n",
    "pensize(3)\n",
    "\n",
    "def marche():\n",
    "    x=0\n",
    "    y=0\n",
    "    d=0\n",
    "    color=choice(colors)\n",
    "    pencolor(color)\n",
    "    goto(x,y)\n",
    "    down()\n",
    "    while ....................................:\n",
    "        h=randint(0,3)\n",
    "        if h==0:\n",
    "            x=......\n",
    "        if h==1:\n",
    "            x=......\n",
    "        if h==2:\n",
    "            y=......\n",
    "        if h==3:\n",
    "            y=......\n",
    "        goto(x*50,y*50)\n",
    "        d=d+1\n",
    "    up()\n",
    "    return ......"
   ]
  },
  {
   "cell_type": "markdown",
   "metadata": {},
   "source": [
    "Compléter la fonction algorithmique ci-dessus et cliquer sur \"Exécuter\" dans le menu en haut de la page.\n",
    "\n",
    "Saisir dans la console ci-dessous l'instruction à exécuter et appuyer de nouveau sur \"Exécuter\"."
   ]
  },
  {
   "cell_type": "code",
   "execution_count": null,
   "metadata": {
    "scrolled": true
   },
   "outputs": [],
   "source": []
  },
  {
   "cell_type": "markdown",
   "metadata": {},
   "source": [
    "## 2. Fonction de simulation de $n$ marches aléatoires"
   ]
  },
  {
   "cell_type": "code",
   "execution_count": null,
   "metadata": {},
   "outputs": [],
   "source": [
    "def nmarche(n):\n",
    "    a=0\n",
    "    b=0\n",
    "    c=0\n",
    "    somme=0\n",
    "    for i in range(n):\n",
    "        d=marche()\n",
    "        if ...............:\n",
    "            ...............\n",
    "        elif ...............:\n",
    "            ...............\n",
    "        else:\n",
    "            ...............\n",
    "    return .............................."
   ]
  },
  {
   "cell_type": "markdown",
   "metadata": {},
   "source": [
    "Compléter la fonction algorithmique ci-dessus et cliquer sur \"Exécuter\".\n",
    "\n",
    "Saisir dans la console ci-dessous l'instruction à exécuter et appuyer de nouveau sur \"Exécuter\"."
   ]
  },
  {
   "cell_type": "code",
   "execution_count": null,
   "metadata": {},
   "outputs": [],
   "source": []
  },
  {
   "cell_type": "markdown",
   "metadata": {},
   "source": [
    "## 3. Estimation de l'espérance de $D$"
   ]
  },
  {
   "cell_type": "markdown",
   "metadata": {},
   "source": [
    "Modifier la fonction de la partie précédente et appuyer à nouveau sur \"Exécuter\".\n",
    "\n",
    "Saisir dans la console ci-dessous l'instruction à exécuter et appuyer de nouveau sur \"Exécuter\"."
   ]
  },
  {
   "cell_type": "code",
   "execution_count": null,
   "metadata": {},
   "outputs": [],
   "source": []
  }
 ],
 "metadata": {
  "kernelspec": {
   "display_name": "Python 3",
   "language": "python",
   "name": "python3"
  },
  "language_info": {
   "codemirror_mode": {
    "name": "ipython",
    "version": 3
   },
   "file_extension": ".py",
   "mimetype": "text/x-python",
   "name": "python",
   "nbconvert_exporter": "python",
   "pygments_lexer": "ipython3",
   "version": "3.7.6"
  }
 },
 "nbformat": 4,
 "nbformat_minor": 4
}
