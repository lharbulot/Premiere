{
 "cells": [
  {
   "cell_type": "markdown",
   "metadata": {},
   "source": [
    "## <u>Exercice 5 :</u>"
   ]
  },
  {
   "cell_type": "code",
   "execution_count": null,
   "metadata": {},
   "outputs": [],
   "source": [
    "from random import *\n",
    "\n",
    "def X():\n",
    "    r=randint(1,6)\n",
    "    nbtirages=1\n",
    "    while ............:\n",
    "        r=............\n",
    "        nbtirages=............\n",
    "    return ......\n",
    "\n",
    "def echantillon(n):\n",
    "    "
   ]
  },
  {
   "cell_type": "markdown",
   "metadata": {},
   "source": [
    "Compléter les fonctions algorithmiques ci-dessus puis cliquer sur \"Exécuter\" dans le menu en haut.\n",
    "\n",
    "Saisir l'instruction à exécuter dans la console ci-dessous puis appuyer de nouveau sur \"Exécuter\"."
   ]
  },
  {
   "cell_type": "code",
   "execution_count": null,
   "metadata": {},
   "outputs": [],
   "source": []
  }
 ],
 "metadata": {
  "kernelspec": {
   "display_name": "Python 3",
   "language": "python",
   "name": "python3"
  },
  "language_info": {
   "codemirror_mode": {
    "name": "ipython",
    "version": 3
   },
   "file_extension": ".py",
   "mimetype": "text/x-python",
   "name": "python",
   "nbconvert_exporter": "python",
   "pygments_lexer": "ipython3",
   "version": "3.7.6"
  }
 },
 "nbformat": 4,
 "nbformat_minor": 4
}
