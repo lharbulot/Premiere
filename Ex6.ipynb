{
 "cells": [
  {
   "cell_type": "markdown",
   "metadata": {},
   "source": [
    "## <u>Exercice 6 :</u>"
   ]
  },
  {
   "cell_type": "code",
   "execution_count": null,
   "metadata": {},
   "outputs": [],
   "source": [
    "from random import *\n",
    "\n",
    "def Y():\n",
    "    L=[]\n",
    "    for i in range(...):\n",
    "        r=............\n",
    "        L.append(r)\n",
    "    return ...\n",
    "\n",
    "def echantillon(n):\n",
    "    "
   ]
  },
  {
   "cell_type": "markdown",
   "metadata": {},
   "source": [
    "Compléter les fonctions algorithmiques ci-dessus puis cliquer sur \"Exécuter\" dans le menu en haut.\n",
    "\n",
    "Saisir l'instruction à exécuter dans la console ci-dessous puis appuyer de nouveau sur \"Exécuter\"."
   ]
  },
  {
   "cell_type": "code",
   "execution_count": null,
   "metadata": {},
   "outputs": [],
   "source": []
  }
 ],
 "metadata": {
  "kernelspec": {
   "display_name": "Python 3",
   "language": "python",
   "name": "python3"
  },
  "language_info": {
   "codemirror_mode": {
    "name": "ipython",
    "version": 3
   },
   "file_extension": ".py",
   "mimetype": "text/x-python",
   "name": "python",
   "nbconvert_exporter": "python",
   "pygments_lexer": "ipython3",
   "version": "3.7.6"
  }
 },
 "nbformat": 4,
 "nbformat_minor": 4
}
